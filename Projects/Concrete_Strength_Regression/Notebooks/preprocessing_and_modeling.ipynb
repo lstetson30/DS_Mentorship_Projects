{
 "cells": [
  {
   "attachments": {},
   "cell_type": "markdown",
   "metadata": {},
   "source": [
    "# Preprocessing & Modeling\n",
    "\n",
    "This notebooks contains my preprocessing of the data in preparation for modeling as well as the steps to select and train a regression model.  The product of this notebook will be a model that can be used for prediction.\n",
    "\n",
    "------"
   ]
  },
  {
   "attachments": {},
   "cell_type": "markdown",
   "metadata": {},
   "source": [
    "## Contents<a id='Contents'></a>\n",
    "* [XXXX](#introduction--feature-descriptions)\n",
    "* [Imports & Reading Data](#imports--readingpreparing-data)\n",
    "---"
   ]
  },
  {
   "cell_type": "code",
   "execution_count": 1,
   "metadata": {},
   "outputs": [],
   "source": [
    "# Import necessary libraries\n",
    "\n",
    "import pandas as pd\n",
    "import numpy as np\n",
    "import matplotlib.pyplot as plt\n",
    "import seaborn as sns\n",
    "import warnings\n",
    "pd.set_option('display.max_columns',None)\n",
    "plt.style.use('ggplot')\n",
    "import os\n",
    "\n",
    "from itertools import combinations\n",
    "\n",
    "from sklearn.preprocessing import StandardScaler, MinMaxScaler\n",
    "from sklearn.model_selection import train_test_split, GridSearchCV, cross_val_score\n",
    "from sklearn.dummy import DummyRegressor\n",
    "from sklearn.linear_model import LinearRegression\n",
    "from sklearn.metrics import r2_score, mean_squared_error\n",
    "from sklearn.pipeline import make_pipeline\n",
    "from sklearn.feature_selection import SelectKBest, f_regression\n",
    "\n",
    "import statsmodels.api as sm"
   ]
  },
  {
   "cell_type": "code",
   "execution_count": 2,
   "metadata": {},
   "outputs": [
    {
     "data": {
      "text/html": [
       "<div>\n",
       "<style scoped>\n",
       "    .dataframe tbody tr th:only-of-type {\n",
       "        vertical-align: middle;\n",
       "    }\n",
       "\n",
       "    .dataframe tbody tr th {\n",
       "        vertical-align: top;\n",
       "    }\n",
       "\n",
       "    .dataframe thead th {\n",
       "        text-align: right;\n",
       "    }\n",
       "</style>\n",
       "<table border=\"1\" class=\"dataframe\">\n",
       "  <thead>\n",
       "    <tr style=\"text-align: right;\">\n",
       "      <th></th>\n",
       "      <th>cement</th>\n",
       "      <th>slag</th>\n",
       "      <th>flyash</th>\n",
       "      <th>water</th>\n",
       "      <th>superplasticizer</th>\n",
       "      <th>coarseaggregate</th>\n",
       "      <th>fineaggregate</th>\n",
       "      <th>age</th>\n",
       "      <th>csMPa</th>\n",
       "    </tr>\n",
       "  </thead>\n",
       "  <tbody>\n",
       "    <tr>\n",
       "      <th>0</th>\n",
       "      <td>540.0</td>\n",
       "      <td>0.0</td>\n",
       "      <td>0.0</td>\n",
       "      <td>162.0</td>\n",
       "      <td>2.5</td>\n",
       "      <td>1040.0</td>\n",
       "      <td>676.0</td>\n",
       "      <td>28</td>\n",
       "      <td>79.99</td>\n",
       "    </tr>\n",
       "    <tr>\n",
       "      <th>1</th>\n",
       "      <td>540.0</td>\n",
       "      <td>0.0</td>\n",
       "      <td>0.0</td>\n",
       "      <td>162.0</td>\n",
       "      <td>2.5</td>\n",
       "      <td>1055.0</td>\n",
       "      <td>676.0</td>\n",
       "      <td>28</td>\n",
       "      <td>61.89</td>\n",
       "    </tr>\n",
       "    <tr>\n",
       "      <th>2</th>\n",
       "      <td>332.5</td>\n",
       "      <td>142.5</td>\n",
       "      <td>0.0</td>\n",
       "      <td>228.0</td>\n",
       "      <td>0.0</td>\n",
       "      <td>932.0</td>\n",
       "      <td>594.0</td>\n",
       "      <td>270</td>\n",
       "      <td>40.27</td>\n",
       "    </tr>\n",
       "    <tr>\n",
       "      <th>3</th>\n",
       "      <td>332.5</td>\n",
       "      <td>142.5</td>\n",
       "      <td>0.0</td>\n",
       "      <td>228.0</td>\n",
       "      <td>0.0</td>\n",
       "      <td>932.0</td>\n",
       "      <td>594.0</td>\n",
       "      <td>365</td>\n",
       "      <td>41.05</td>\n",
       "    </tr>\n",
       "    <tr>\n",
       "      <th>4</th>\n",
       "      <td>198.6</td>\n",
       "      <td>132.4</td>\n",
       "      <td>0.0</td>\n",
       "      <td>192.0</td>\n",
       "      <td>0.0</td>\n",
       "      <td>978.4</td>\n",
       "      <td>825.5</td>\n",
       "      <td>360</td>\n",
       "      <td>44.30</td>\n",
       "    </tr>\n",
       "  </tbody>\n",
       "</table>\n",
       "</div>"
      ],
      "text/plain": [
       "   cement   slag  flyash  water  superplasticizer  coarseaggregate  \\\n",
       "0   540.0    0.0     0.0  162.0               2.5           1040.0   \n",
       "1   540.0    0.0     0.0  162.0               2.5           1055.0   \n",
       "2   332.5  142.5     0.0  228.0               0.0            932.0   \n",
       "3   332.5  142.5     0.0  228.0               0.0            932.0   \n",
       "4   198.6  132.4     0.0  192.0               0.0            978.4   \n",
       "\n",
       "   fineaggregate  age  csMPa  \n",
       "0          676.0   28  79.99  \n",
       "1          676.0   28  61.89  \n",
       "2          594.0  270  40.27  \n",
       "3          594.0  365  41.05  \n",
       "4          825.5  360  44.30  "
      ]
     },
     "execution_count": 2,
     "metadata": {},
     "output_type": "execute_result"
    }
   ],
   "source": [
    "# Read csv into a pandas dataframe\n",
    "df = pd.read_csv('../data/Concrete_Data_Yeh.csv')\n",
    "df.head()"
   ]
  },
  {
   "cell_type": "code",
   "execution_count": 3,
   "metadata": {},
   "outputs": [],
   "source": [
    "# Split data into predictor features (X) and target feature (y)\n",
    "X = df.drop('csMPa', axis = 1)\n",
    "y = df['csMPa']"
   ]
  },
  {
   "cell_type": "code",
   "execution_count": 4,
   "metadata": {},
   "outputs": [],
   "source": [
    "# Split the data into a training and a test set (random state set for reproducability)\n",
    "X_train, X_test, y_train, y_test = train_test_split(X, y, test_size=0.2, random_state=30)"
   ]
  },
  {
   "attachments": {},
   "cell_type": "markdown",
   "metadata": {},
   "source": [
    "## Baseline Model (No relationship between predictor features and target feature)"
   ]
  },
  {
   "cell_type": "code",
   "execution_count": 5,
   "metadata": {},
   "outputs": [
    {
     "data": {
      "text/plain": [
       "array([[35.92209951]])"
      ]
     },
     "execution_count": 5,
     "metadata": {},
     "output_type": "execute_result"
    }
   ],
   "source": [
    "dumb_reg = DummyRegressor(strategy='mean')\n",
    "dumb_reg.fit(X_train, y_train)\n",
    "dumb_reg.constant_"
   ]
  },
  {
   "attachments": {},
   "cell_type": "markdown",
   "metadata": {},
   "source": [
    "This \"model\" predicts the compression strength as the sample mean in every case (y = 35.922 + 0*X)."
   ]
  },
  {
   "cell_type": "code",
   "execution_count": 6,
   "metadata": {},
   "outputs": [
    {
     "data": {
      "text/plain": [
       "0.0"
      ]
     },
     "execution_count": 6,
     "metadata": {},
     "output_type": "execute_result"
    }
   ],
   "source": [
    "# Get r squared value for training data\n",
    "dumb_reg.score(X_train, y_train)"
   ]
  },
  {
   "attachments": {},
   "cell_type": "markdown",
   "metadata": {},
   "source": [
    "For the training set, 0.0% of the variance in the target feature is explained by the model."
   ]
  },
  {
   "cell_type": "code",
   "execution_count": 7,
   "metadata": {},
   "outputs": [
    {
     "name": "stdout",
     "output_type": "stream",
     "text": [
      "Baseline MSE: 283.72877665204663\n"
     ]
    }
   ],
   "source": [
    "# Get mean squared error for test data.  This will be the baseline \n",
    "y_predict_baseline = dumb_reg.predict(X_test)\n",
    "mse = mean_squared_error(y_test, y_predict_baseline)\n",
    "print(\"Baseline MSE:\", mse)"
   ]
  },
  {
   "attachments": {},
   "cell_type": "markdown",
   "metadata": {},
   "source": [
    "## Methods for Model Selection"
   ]
  },
  {
   "attachments": {},
   "cell_type": "markdown",
   "metadata": {},
   "source": [
    "### Best Subset Selection:"
   ]
  },
  {
   "attachments": {},
   "cell_type": "markdown",
   "metadata": {},
   "source": [
    "Code sampled from [R. Jordan Crouser at Smith College for SDS293: Machine Learning (Spring 2016)](http://www.science.smith.edu/~jcrouser/SDS293/labs/lab8-py.html). "
   ]
  },
  {
   "cell_type": "code",
   "execution_count": 15,
   "metadata": {},
   "outputs": [
    {
     "data": {
      "text/plain": [
       "pandas.core.frame.DataFrame"
      ]
     },
     "execution_count": 15,
     "metadata": {},
     "output_type": "execute_result"
    }
   ],
   "source": [
    "type(X_test)"
   ]
  },
  {
   "cell_type": "code",
   "execution_count": 22,
   "metadata": {},
   "outputs": [],
   "source": [
    "def processSubset(subset, X_train, y_train, X_test, y_test):\n",
    "    \"\"\"Given the data split into training and test sets, this will fit a linear regression model on a subset of the dataset's features\n",
    "\n",
    "    Args:\n",
    "        subset (_type_): subset to train model on\n",
    "        X_train (_type_): training set of predictor features\n",
    "        y_train (_type_): training set of target feature\n",
    "        X_test (_type_): test set of predictor features\n",
    "        y_test (_type_): test set of target feature\n",
    "\n",
    "    Returns:\n",
    "        dict: dictionary containing the model, its parameters, its coefficients, its intercept, and the test set mean squared error \n",
    "    \"\"\"\n",
    "    model = LinearRegression()\n",
    "    model.fit(X_train[list(subset)], y_train)\n",
    "    y_hat = model.predict(X_test[list(subset)])\n",
    "    mse = mean_squared_error(y_test, y_hat)\n",
    "    return {'model': model, 'parameters': model.feature_names_in_, 'coefficients': model.coef_, 'intercept': model.intercept_, 'MSE': mse}"
   ]
  },
  {
   "cell_type": "code",
   "execution_count": 9,
   "metadata": {},
   "outputs": [],
   "source": [
    "def getBestKModel(k: int, X_train, y_train, X_test, y_test):\n",
    "    \n",
    "    results = []\n",
    "    \n",
    "    for combo in combinations(X_train.columns, k):\n",
    "        results.append(processSubset(combo, X_train, y_train, X_test, y_test))\n",
    "        \n",
    "    models = pd.DataFrame(results)\n",
    "    \n",
    "    best_model = models.loc[models['MSE'].argmin()]\n",
    "    \n",
    "    print(\"Processed\", models.shape[0], \"models on\", k, \"predictor(s)\")\n",
    "    \n",
    "    return best_model"
   ]
  },
  {
   "cell_type": "code",
   "execution_count": 14,
   "metadata": {},
   "outputs": [
    {
     "name": "stdout",
     "output_type": "stream",
     "text": [
      "Processed 8 models on 1 predictor(s)\n",
      "Processed 28 models on 2 predictor(s)\n",
      "Processed 56 models on 3 predictor(s)\n",
      "Processed 70 models on 4 predictor(s)\n",
      "Processed 56 models on 5 predictor(s)\n",
      "Processed 28 models on 6 predictor(s)\n",
      "Processed 8 models on 7 predictor(s)\n",
      "Processed 1 models on 8 predictor(s)\n"
     ]
    },
    {
     "data": {
      "text/html": [
       "<div>\n",
       "<style scoped>\n",
       "    .dataframe tbody tr th:only-of-type {\n",
       "        vertical-align: middle;\n",
       "    }\n",
       "\n",
       "    .dataframe tbody tr th {\n",
       "        vertical-align: top;\n",
       "    }\n",
       "\n",
       "    .dataframe thead th {\n",
       "        text-align: right;\n",
       "    }\n",
       "</style>\n",
       "<table border=\"1\" class=\"dataframe\">\n",
       "  <thead>\n",
       "    <tr style=\"text-align: right;\">\n",
       "      <th></th>\n",
       "      <th>model</th>\n",
       "      <th>parameters</th>\n",
       "      <th>coefficients</th>\n",
       "      <th>intercept</th>\n",
       "      <th>MSE</th>\n",
       "    </tr>\n",
       "  </thead>\n",
       "  <tbody>\n",
       "    <tr>\n",
       "      <th>0</th>\n",
       "      <td>LinearRegression()</td>\n",
       "      <td>[cement]</td>\n",
       "      <td>[0.07792767537004329]</td>\n",
       "      <td>13.894509</td>\n",
       "      <td>195.566040</td>\n",
       "    </tr>\n",
       "    <tr>\n",
       "      <th>2</th>\n",
       "      <td>LinearRegression()</td>\n",
       "      <td>[cement, water]</td>\n",
       "      <td>[0.07488426922156169, -0.18682469672520077]</td>\n",
       "      <td>48.696134</td>\n",
       "      <td>173.813442</td>\n",
       "    </tr>\n",
       "    <tr>\n",
       "      <th>1</th>\n",
       "      <td>LinearRegression()</td>\n",
       "      <td>[cement, slag, water]</td>\n",
       "      <td>[0.08901323972515572, 0.06390238568424605, -0....</td>\n",
       "      <td>44.023246</td>\n",
       "      <td>152.086109</td>\n",
       "    </tr>\n",
       "    <tr>\n",
       "      <th>8</th>\n",
       "      <td>LinearRegression()</td>\n",
       "      <td>[cement, slag, water, age]</td>\n",
       "      <td>[0.08419471576690608, 0.06815936622855842, -0....</td>\n",
       "      <td>55.661888</td>\n",
       "      <td>139.783820</td>\n",
       "    </tr>\n",
       "    <tr>\n",
       "      <th>3</th>\n",
       "      <td>LinearRegression()</td>\n",
       "      <td>[cement, slag, flyash, water, age]</td>\n",
       "      <td>[0.11315050495625445, 0.09724247649332822, 0.0...</td>\n",
       "      <td>29.231650</td>\n",
       "      <td>135.349416</td>\n",
       "    </tr>\n",
       "    <tr>\n",
       "      <th>5</th>\n",
       "      <td>LinearRegression()</td>\n",
       "      <td>[cement, slag, flyash, water, fineaggregate, age]</td>\n",
       "      <td>[0.11730063090601521, 0.10187957046620805, 0.0...</td>\n",
       "      <td>17.028503</td>\n",
       "      <td>135.566568</td>\n",
       "    </tr>\n",
       "    <tr>\n",
       "      <th>3</th>\n",
       "      <td>LinearRegression()</td>\n",
       "      <td>[cement, slag, flyash, water, coarseaggregate,...</td>\n",
       "      <td>[0.11299931669821367, 0.09666429982466201, 0.0...</td>\n",
       "      <td>31.394116</td>\n",
       "      <td>136.525844</td>\n",
       "    </tr>\n",
       "    <tr>\n",
       "      <th>0</th>\n",
       "      <td>LinearRegression()</td>\n",
       "      <td>[cement, slag, flyash, water, superplasticizer...</td>\n",
       "      <td>[0.11245418761334908, 0.09627841251483628, 0.0...</td>\n",
       "      <td>-0.819576</td>\n",
       "      <td>137.955851</td>\n",
       "    </tr>\n",
       "  </tbody>\n",
       "</table>\n",
       "</div>"
      ],
      "text/plain": [
       "                model                                         parameters  \\\n",
       "0  LinearRegression()                                           [cement]   \n",
       "2  LinearRegression()                                    [cement, water]   \n",
       "1  LinearRegression()                              [cement, slag, water]   \n",
       "8  LinearRegression()                         [cement, slag, water, age]   \n",
       "3  LinearRegression()                 [cement, slag, flyash, water, age]   \n",
       "5  LinearRegression()  [cement, slag, flyash, water, fineaggregate, age]   \n",
       "3  LinearRegression()  [cement, slag, flyash, water, coarseaggregate,...   \n",
       "0  LinearRegression()  [cement, slag, flyash, water, superplasticizer...   \n",
       "\n",
       "                                        coefficients  intercept         MSE  \n",
       "0                              [0.07792767537004329]  13.894509  195.566040  \n",
       "2        [0.07488426922156169, -0.18682469672520077]  48.696134  173.813442  \n",
       "1  [0.08901323972515572, 0.06390238568424605, -0....  44.023246  152.086109  \n",
       "8  [0.08419471576690608, 0.06815936622855842, -0....  55.661888  139.783820  \n",
       "3  [0.11315050495625445, 0.09724247649332822, 0.0...  29.231650  135.349416  \n",
       "5  [0.11730063090601521, 0.10187957046620805, 0.0...  17.028503  135.566568  \n",
       "3  [0.11299931669821367, 0.09666429982466201, 0.0...  31.394116  136.525844  \n",
       "0  [0.11245418761334908, 0.09627841251483628, 0.0...  -0.819576  137.955851  "
      ]
     },
     "execution_count": 14,
     "metadata": {},
     "output_type": "execute_result"
    }
   ],
   "source": [
    "bestModels = []\n",
    "for i in range(1, 9):\n",
    "    bestModels.append(getBestKModel(i, X_train, y_train, X_test, y_test))\n",
    "    \n",
    "bestModels = pd.DataFrame(bestModels)\n",
    "bestModels"
   ]
  },
  {
   "attachments": {},
   "cell_type": "markdown",
   "metadata": {},
   "source": [
    "### Forward Selection:"
   ]
  },
  {
   "cell_type": "code",
   "execution_count": null,
   "metadata": {},
   "outputs": [],
   "source": []
  },
  {
   "attachments": {},
   "cell_type": "markdown",
   "metadata": {},
   "source": [
    "### Backward Selection:"
   ]
  },
  {
   "cell_type": "code",
   "execution_count": null,
   "metadata": {},
   "outputs": [],
   "source": []
  }
 ],
 "metadata": {
  "kernelspec": {
   "display_name": "Python 3",
   "language": "python",
   "name": "python3"
  },
  "language_info": {
   "codemirror_mode": {
    "name": "ipython",
    "version": 3
   },
   "file_extension": ".py",
   "mimetype": "text/x-python",
   "name": "python",
   "nbconvert_exporter": "python",
   "pygments_lexer": "ipython3",
   "version": "3.11.1"
  },
  "orig_nbformat": 4,
  "vscode": {
   "interpreter": {
    "hash": "1559973cb154fce50f52bc6f19374a2a148e00a6313353209e2e890f232539cb"
   }
  }
 },
 "nbformat": 4,
 "nbformat_minor": 2
}
